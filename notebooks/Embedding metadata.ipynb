{
 "cells": [
  {
   "cell_type": "code",
   "execution_count": 4,
   "metadata": {
    "collapsed": true
   },
   "outputs": [],
   "source": [
    "import sys\n",
    "sys.path.insert(0, '../')\n",
    "\n",
    "import gensim\n",
    "\n",
    "from quick_experiment import utils\n",
    "from collections import defaultdict"
   ]
  },
  {
   "cell_type": "markdown",
   "metadata": {},
   "source": [
    "# Not pretrained models"
   ]
  },
  {
   "cell_type": "code",
   "execution_count": 2,
   "metadata": {
    "collapsed": true
   },
   "outputs": [],
   "source": [
    "def read_embedding_model(model_path):\n",
    "    if model_path is None:\n",
    "        return None\n",
    "    return gensim.models.Word2Vec.load(model_path)"
   ]
  },
  {
   "cell_type": "code",
   "execution_count": 5,
   "metadata": {},
   "outputs": [],
   "source": [
    "course = 21\n",
    "dataset_file = '../../data/kddcup2015/sequences/merged/c{}.p'.format(course)\n",
    "encoder_file = '../../data/kddcup2015/sequences/merged/c{}-merged-encoder.p'.format(course)\n",
    "metadata_file = '/home/mteruel/edm/data/kddcup2015/sequences/merged/c{}-pretrained20-metadata.tsv'.format(course)\n",
    "embedding_file = '/home/mteruel/edm/data/kddcup2015/embeddings/word2vec/len_ge_5/c{}_20_merged_embeddings.model'.format(course)\n",
    "\n",
    "embedding_model = read_embedding_model(embedding_file)\n",
    "train_sequences, test_sequences, train_labels, test_labels = utils.pickle_from_file(dataset_file) "
   ]
  },
  {
   "cell_type": "code",
   "execution_count": null,
   "metadata": {
    "collapsed": true
   },
   "outputs": [],
   "source": [
    "modules_types = {'action': {}, 'original_id': {}}\n",
    "module_position = defaultdict(list)\n",
    "labels = defaultdict(list)\n",
    "frequency = defaultdict(int)\n",
    "for (sequence, label) in zip(train_sequences, train_labels):\n",
    "    for position, (module_id, action) in enumerate(sequence):\n",
    "        embedding_position = word2index.get(str(module_id), len(word2index)) + 1\n",
    "        modules_types['original_id'][embedding_position] = module_id\n",
    "        modules_types['action'][embedding_position] = action\n",
    "        module_position[embedding_position].append(position)\n",
    "        labels[embedding_position].append(label)\n",
    "        frequency[embedding_position] += 1\n",
    "\n",
    "modules_metadata = pandas.DataFrame(modules_types)\n",
    "\n",
    "for module_id, positions in module_position.items():\n",
    "    modules_metadata.loc[module_id, 'mean_position'] = numpy.mean(positions)\n",
    "#     modules_metadata.loc[module_id, 'std_position'] = numpy.std(positions)\n",
    "    dropout = numpy.sum(labels[module_id])\n",
    "    modules_metadata.loc[module_id, 'dropout'] = dropout / len(labels[module_id])\n",
    "    modules_metadata.loc[module_id, 'frequency'] = frequency[module_id]\n",
    "\n",
    "modules_metadata['frequency'] = modules_metadata.frequency.clip(upper=modules_metadata.frequency.quantile(0.90))\n",
    "modules_metadata['frequency_bin'] = pandas.cut(modules_metadata.frequency, 5,\n",
    "                                               labels=[\"verylow\", \"low\", \"medium\", \"high\", \"veryhigh\"])\n",
    "\n",
    "for i in range(len(embedding_model.wv.index2word)):\n",
    "    if not (i+1) in modules_metadata.index:\n",
    "        print(i+1)\n",
    "        modules_metadata.loc[i+1] = {'action': -1, 'original_id': 0, 'mean_position': 0,\n",
    "                                     'dropout': 0.5, 'frequency': 0, 'frequency_bin': 'verylow'}\n",
    "\n",
    "metadata_file\n",
    "\n",
    "modules_metadata[:-1].sort_index().drop('original_id', axis=1).to_csv(metadata_file, sep='\\t', header=True, index=False)\n",
    "\n",
    "len(embedding_model.wv.index2word)\n",
    "\n",
    "modules_metadata.shapet.create_fixed_samples(\n",
    "    numpy.array([x[:,0] for x in train_sequences]), train_labels,\n",
    "    numpy.array([x[:,0] for x in test_sequences]), test_labels,\n",
    "    partition_sizes=dataset_config, samples_num=1)"
   ]
  },
  {
   "cell_type": "markdown",
   "metadata": {},
   "source": [
    "---\n",
    "\n",
    "# Pretrained models"
   ]
  },
  {
   "cell_type": "code",
   "execution_count": 6,
   "metadata": {
    "collapsed": true
   },
   "outputs": [],
   "source": [
    "word2index = {word: index for index, word in enumerate(embedding_model.wv.index2word)}"
   ]
  },
  {
   "cell_type": "code",
   "execution_count": 156,
   "metadata": {
    "collapsed": true
   },
   "outputs": [],
   "source": [
    "modules_types = {'action': {}, 'original_id': {}}\n",
    "module_position = defaultdict(list)\n",
    "labels = defaultdict(list)\n",
    "frequency = defaultdict(int)\n",
    "for (sequence, label) in zip(train_sequences, train_labels):\n",
    "    for position, (module_id, action) in enumerate(sequence):\n",
    "        embedding_position = word2index.get(str(module_id), len(word2index)) + 1\n",
    "        modules_types['original_id'][embedding_position] = module_id\n",
    "        modules_types['action'][embedding_position] = action\n",
    "        module_position[embedding_position].append(position)\n",
    "        labels[embedding_position].append(label)\n",
    "        frequency[embedding_position] += 1"
   ]
  },
  {
   "cell_type": "code",
   "execution_count": 157,
   "metadata": {
    "collapsed": true
   },
   "outputs": [],
   "source": [
    "modules_metadata = pandas.DataFrame(modules_types)\n",
    "\n",
    "for module_id, positions in module_position.items():\n",
    "    modules_metadata.loc[module_id, 'mean_position'] = numpy.mean(positions)\n",
    "#     modules_metadata.loc[module_id, 'std_position'] = numpy.std(positions)\n",
    "    dropout = numpy.sum(labels[module_id])\n",
    "    modules_metadata.loc[module_id, 'dropout'] = dropout / len(labels[module_id])\n",
    "    modules_metadata.loc[module_id, 'frequency'] = frequency[module_id]\n",
    "\n",
    "modules_metadata['frequency'] = modules_metadata.frequency.clip(upper=modules_metadata.frequency.quantile(0.90))\n",
    "modules_metadata['frequency_bin'] = pandas.cut(modules_metadata.frequency, 5,\n",
    "                                               labels=[\"verylow\", \"low\", \"medium\", \"high\", \"veryhigh\"])"
   ]
  },
  {
   "cell_type": "code",
   "execution_count": 174,
   "metadata": {
    "collapsed": true
   },
   "outputs": [],
   "source": [
    "for i in range(len(embedding_model.wv.index2word)):\n",
    "    if not (i+1) in modules_metadata.index:\n",
    "        print(i+1)\n",
    "        modules_metadata.loc[i+1] = {'action': -1, 'original_id': 0, 'mean_position': 0,\n",
    "                                     'dropout': 0.5, 'frequency': 0, 'frequency_bin': 'verylow'}"
   ]
  },
  {
   "cell_type": "code",
   "execution_count": 158,
   "metadata": {},
   "outputs": [
    {
     "data": {
      "text/plain": [
       "'/home/mteruel/edm/data/kddcup2015/sequences/merged/c21-pretrained20-metadata.tsv'"
      ]
     },
     "execution_count": 158,
     "metadata": {},
     "output_type": "execute_result"
    }
   ],
   "source": [
    "metadata_file"
   ]
  },
  {
   "cell_type": "code",
   "execution_count": 173,
   "metadata": {
    "collapsed": true
   },
   "outputs": [],
   "source": [
    "modules_metadata[:-1].sort_index().drop('original_id', axis=1).to_csv(metadata_file, sep='\\t', header=True, index=False)"
   ]
  },
  {
   "cell_type": "code",
   "execution_count": 161,
   "metadata": {},
   "outputs": [
    {
     "data": {
      "text/plain": [
       "311"
      ]
     },
     "execution_count": 161,
     "metadata": {},
     "output_type": "execute_result"
    }
   ],
   "source": [
    "len(embedding_model.wv.index2word)"
   ]
  },
  {
   "cell_type": "code",
   "execution_count": 172,
   "metadata": {},
   "outputs": [
    {
     "data": {
      "text/plain": [
       "(312, 6)"
      ]
     },
     "execution_count": 172,
     "metadata": {},
     "output_type": "execute_result"
    }
   ],
   "source": [
    "modules_metadata.shape"
   ]
  },
  {
   "cell_type": "code",
   "execution_count": null,
   "metadata": {
    "collapsed": true
   },
   "outputs": [],
   "source": []
  }
 ],
 "metadata": {
  "anaconda-cloud": {},
  "kernelspec": {
   "display_name": "Python [conda env:env_edm2]",
   "language": "python",
   "name": "conda-env-env_edm2-py"
  },
  "language_info": {
   "codemirror_mode": {
    "name": "ipython",
    "version": 3
   },
   "file_extension": ".py",
   "mimetype": "text/x-python",
   "name": "python",
   "nbconvert_exporter": "python",
   "pygments_lexer": "ipython3",
   "version": "3.5.4"
  }
 },
 "nbformat": 4,
 "nbformat_minor": 2
}
