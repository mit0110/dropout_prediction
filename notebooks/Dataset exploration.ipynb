{
 "cells": [
  {
   "cell_type": "code",
   "execution_count": 4,
   "metadata": {
    "collapsed": true
   },
   "outputs": [],
   "source": [
    "%matplotlib inline\n",
    "import os\n",
    "import pandas\n",
    "import pickle\n",
    "import seaborn"
   ]
  },
  {
   "cell_type": "code",
   "execution_count": 2,
   "metadata": {
    "collapsed": true
   },
   "outputs": [],
   "source": [
    "EVENT_TYPE = [\"problem\", \"video\", \"access\", \"wiki\", \"discussion\",\n",
    "              \"navigate\", \"page_close\"]"
   ]
  },
  {
   "cell_type": "markdown",
   "metadata": {},
   "source": [
    "## Read data"
   ]
  },
  {
   "cell_type": "code",
   "execution_count": 5,
   "metadata": {
    "collapsed": true
   },
   "outputs": [],
   "source": [
    "def get_input_filenames(input_dirpath, extension):\n",
    "    \"\"\"Returns the names of the files in input_dirpath that matches pattern.\"\"\"\n",
    "    all_files = os.listdir(input_dirpath)\n",
    "    result = []\n",
    "    for filename in all_files:\n",
    "        if filename.endswith(extension) and os.path.isfile(os.path.join(\n",
    "                input_dirpath, filename)):\n",
    "            result.append(os.path.join(input_dirpath, filename))\n",
    "    return result"
   ]
  },
  {
   "cell_type": "code",
   "execution_count": 56,
   "metadata": {
    "collapsed": true
   },
   "outputs": [],
   "source": [
    "input_filenames = get_input_filenames('/home/mteruel/edm/data/kddcup2015/clean/log_train.csv/', '.csv')\n",
    "df_from_each_file = (pandas.read_csv(f, header=0, parse_dates=['time'], infer_datetime_format=True)\n",
    "                     for f in input_filenames)\n",
    "sequences = pandas.concat(df_from_each_file, ignore_index=True)"
   ]
  },
  {
   "cell_type": "code",
   "execution_count": 38,
   "metadata": {
    "collapsed": true
   },
   "outputs": [],
   "source": [
    "input_filenames = get_input_filenames('/home/mteruel/edm/data/kddcup2015/clean/enrollment_train.csv/', '.csv')\n",
    "df_from_each_file = (pandas.read_csv(f, header=0, usecols=['course_id', 'enrollment_id']) for f in input_filenames)\n",
    "courses = pandas.concat(df_from_each_file, ignore_index=True)"
   ]
  },
  {
   "cell_type": "code",
   "execution_count": 52,
   "metadata": {
    "collapsed": true
   },
   "outputs": [],
   "source": [
    "labels = pandas.read_csv('/home/mteruel/edm/data/kddcup2015/truth_train.csv', \n",
    "                         names=['enrollment_id', 'dropout'])"
   ]
  },
  {
   "cell_type": "code",
   "execution_count": 57,
   "metadata": {
    "collapsed": true
   },
   "outputs": [],
   "source": [
    "sequences = sequences.merge(courses, on='enrollment_id', how='left')\n",
    "sequences = sequences.merge(labels, on='enrollment_id', how='left')"
   ]
  },
  {
   "cell_type": "code",
   "execution_count": 122,
   "metadata": {},
   "outputs": [
    {
     "data": {
      "text/plain": [
       "array([  8.,   6.,   7.,  28.,  36.,  33.,  30.,  16.,  17.,   0.,  18.,\n",
       "        34.,  11.,  21.,  26.,  25.,  23.,   9.,   3.,  38.,   1.,  13.,\n",
       "         4.,  15.,  37.,  22.,  32.,  10.,   5.,  31.,  29.,  12.,  35.,\n",
       "        14.,  20.,   2.,  27.,  19.,  24.])"
      ]
     },
     "execution_count": 122,
     "metadata": {},
     "output_type": "execute_result"
    }
   ],
   "source": [
    "sequences.course_id.unique()"
   ]
  },
  {
   "cell_type": "markdown",
   "metadata": {},
   "source": [
    "## Divide in periods"
   ]
  },
  {
   "cell_type": "code",
   "execution_count": 61,
   "metadata": {
    "collapsed": true
   },
   "outputs": [],
   "source": [
    "PERIOD_SIZE = 4"
   ]
  },
  {
   "cell_type": "code",
   "execution_count": 174,
   "metadata": {},
   "outputs": [
    {
     "data": {
      "text/html": [
       "<div>\n",
       "<style>\n",
       "    .dataframe thead tr:only-child th {\n",
       "        text-align: right;\n",
       "    }\n",
       "\n",
       "    .dataframe thead th {\n",
       "        text-align: left;\n",
       "    }\n",
       "\n",
       "    .dataframe tbody tr th {\n",
       "        vertical-align: top;\n",
       "    }\n",
       "</style>\n",
       "<table border=\"1\" class=\"dataframe\">\n",
       "  <thead>\n",
       "    <tr style=\"text-align: right;\">\n",
       "      <th></th>\n",
       "      <th>enrollment_id</th>\n",
       "      <th>time</th>\n",
       "      <th>source</th>\n",
       "      <th>event</th>\n",
       "      <th>object</th>\n",
       "      <th>course_id</th>\n",
       "      <th>dropout</th>\n",
       "    </tr>\n",
       "  </thead>\n",
       "  <tbody>\n",
       "    <tr>\n",
       "      <th>7478</th>\n",
       "      <td>147821</td>\n",
       "      <td>2013-12-27 03:56:34</td>\n",
       "      <td>server</td>\n",
       "      <td>navigate</td>\n",
       "      <td>5887.0</td>\n",
       "      <td>11.0</td>\n",
       "      <td>1</td>\n",
       "    </tr>\n",
       "    <tr>\n",
       "      <th>7479</th>\n",
       "      <td>147821</td>\n",
       "      <td>2013-12-27 03:58:01</td>\n",
       "      <td>server</td>\n",
       "      <td>navigate</td>\n",
       "      <td>5887.0</td>\n",
       "      <td>11.0</td>\n",
       "      <td>1</td>\n",
       "    </tr>\n",
       "    <tr>\n",
       "      <th>7480</th>\n",
       "      <td>147821</td>\n",
       "      <td>2013-12-27 03:58:16</td>\n",
       "      <td>server</td>\n",
       "      <td>navigate</td>\n",
       "      <td>5772.0</td>\n",
       "      <td>11.0</td>\n",
       "      <td>1</td>\n",
       "    </tr>\n",
       "  </tbody>\n",
       "</table>\n",
       "</div>"
      ],
      "text/plain": [
       "      enrollment_id                time  source     event  object  course_id  \\\n",
       "7478         147821 2013-12-27 03:56:34  server  navigate  5887.0       11.0   \n",
       "7479         147821 2013-12-27 03:58:01  server  navigate  5887.0       11.0   \n",
       "7480         147821 2013-12-27 03:58:16  server  navigate  5772.0       11.0   \n",
       "\n",
       "      dropout  \n",
       "7478        1  \n",
       "7479        1  \n",
       "7480        1  "
      ]
     },
     "execution_count": 174,
     "metadata": {},
     "output_type": "execute_result"
    }
   ],
   "source": [
    "sequences2 = sequences[sequences.course_id == 11lambda x: '-'.join(x), axis=1)]\n",
    "sequences2[:3]"
   ]
  },
  {
   "cell_type": "code",
   "execution_count": 175,
   "metadata": {
    "collapsed": true
   },
   "outputs": [],
   "source": [
    "min_time = sequences2['time'].min()"
   ]
  },
  {
   "cell_type": "code",
   "execution_count": 176,
   "metadata": {},
   "outputs": [
    {
     "name": "stderr",
     "output_type": "stream",
     "text": [
      "/home/mteruel/miniconda3/envs/env_edm2/lib/python3.5/site-packages/ipykernel/__main__.py:1: SettingWithCopyWarning: \n",
      "A value is trying to be set on a copy of a slice from a DataFrame.\n",
      "Try using .loc[row_indexer,col_indexer] = value instead\n",
      "\n",
      "See the caveats in the documentation: http://pandas.pydata.org/pandas-docs/stable/indexing.html#indexing-view-versus-copy\n",
      "  if __name__ == '__main__':\n",
      "/home/mteruel/miniconda3/envs/env_edm2/lib/python3.5/site-packages/ipykernel/__main__.py:2: SettingWithCopyWarning: \n",
      "A value is trying to be set on a copy of a slice from a DataFrame.\n",
      "Try using .loc[row_indexer,col_indexer] = value instead\n",
      "\n",
      "See the caveats in the documentation: http://pandas.pydata.org/pandas-docs/stable/indexing.html#indexing-view-versus-copy\n",
      "  from ipykernel import kernelapp as app\n"
     ]
    }
   ],
   "source": [
    "sequences2['time_lapsed'] = sequences2['time'] - min_time\n",
    "sequences2['days_lapsed'] = sequences2['time_lapsed'].apply(lambda date: date.days)"
   ]
  },
  {
   "cell_type": "markdown",
   "metadata": {},
   "source": [
    "### Distribution of activity per day"
   ]
  },
  {
   "cell_type": "code",
   "execution_count": 177,
   "metadata": {},
   "outputs": [
    {
     "data": {
      "text/plain": [
       "<matplotlib.axes._subplots.AxesSubplot at 0x7f7a28ba2358>"
      ]
     },
     "execution_count": 177,
     "metadata": {},
     "output_type": "execute_result"
    },
    {
     "data": {
      "image/png": "[encoded data removed]",
      "text/plain": [
       "<matplotlib.figure.Figure at 0x7f7a28bf22e8>"
      ]
     },
     "metadata": {},
     "output_type": "display_data"
    }
   ],
   "source": [
    "counts_per_day = sequences2.groupby(\n",
    "    ['days_lapsed', 'dropout']).count()\n",
    "seaborn.barplot(data=counts_per_day.reset_index(), x='days_lapsed', y='enrollment_id', hue='dropout')"
   ]
  },
  {
   "cell_type": "markdown",
   "metadata": {},
   "source": [
    "### Last day of activity"
   ]
  },
  {
   "cell_type": "code",
   "execution_count": 178,
   "metadata": {
    "scrolled": true
   },
   "outputs": [
    {
     "data": {
      "text/plain": [
       "<matplotlib.axes._subplots.AxesSubplot at 0x7f7a28a05588>"
      ]
     },
     "execution_count": 178,
     "metadata": {},
     "output_type": "execute_result"
    },
    {
     "data": {
      "image/png": "[encoded data removed]",
      "text/plain": [
       "<matplotlib.figure.Figure at 0x7f7a28a12cc0>"
      ]
     },
     "metadata": {},
     "output_type": "display_data"
    }
   ],
   "source": [
    "last_day_df = sequences2[['enrollment_id', 'days_lapsed', 'dropout']].groupby(\n",
    "    'enrollment_id').max().rename(columns={'days_lapsed':'last_day'}).reset_index()\n",
    "seaborn.barplot(data=last_day_df.groupby(['last_day', 'dropout']).count().reset_index(),\n",
    "                x='last_day', y='enrollment_id', hue='dropout')"
   ]
  },
  {
   "cell_type": "markdown",
   "metadata": {},
   "source": [
    "### First day of activity"
   ]
  },
  {
   "cell_type": "code",
   "execution_count": 179,
   "metadata": {},
   "outputs": [
    {
     "data": {
      "text/plain": [
       "<matplotlib.axes._subplots.AxesSubplot at 0x7f7a288ca6a0>"
      ]
     },
     "execution_count": 179,
     "metadata": {},
     "output_type": "execute_result"
    },
    {
     "data": {
      "image/png": "[encoded data removed]",
      "text/plain": [
       "<matplotlib.figure.Figure at 0x7f7a28866be0>"
      ]
     },
     "metadata": {},
     "output_type": "display_data"
    }
   ],
   "source": [
    "first_day_df = sequences2[['enrollment_id', 'days_lapsed', 'dropout']].groupby(\n",
    "            'enrollment_id').min().rename(columns={'days_lapsed':'first_day'}).reset_index()\n",
    "seaborn.barplot(data=first_day_df.groupby(['first_day', 'dropout']).count().reset_index(),\n",
    "                x='first_day', y='enrollment_id', hue='dropout')"
   ]
  },
  {
   "cell_type": "code",
   "execution_count": 167,
   "metadata": {},
   "outputs": [
    {
     "data": {
      "text/plain": [
       "0       1\n",
       "1       1\n",
       "2       1\n",
       "3       1\n",
       "4       1\n",
       "5       1\n",
       "6       1\n",
       "7       1\n",
       "8       1\n",
       "9       1\n",
       "10      1\n",
       "11      1\n",
       "12      1\n",
       "13      1\n",
       "14      1\n",
       "15      1\n",
       "16      1\n",
       "17      1\n",
       "18      1\n",
       "19      1\n",
       "20      1\n",
       "21      1\n",
       "22      1\n",
       "23      1\n",
       "24      1\n",
       "25      1\n",
       "26      1\n",
       "27      1\n",
       "28      1\n",
       "29      1\n",
       "       ..\n",
       "4866    1\n",
       "4867    1\n",
       "4868    1\n",
       "4869    1\n",
       "4870    1\n",
       "4871    1\n",
       "4872    1\n",
       "4873    1\n",
       "4874    1\n",
       "4875    1\n",
       "4876    1\n",
       "4877    1\n",
       "4878    1\n",
       "4879    1\n",
       "4880    1\n",
       "4881    1\n",
       "4882    1\n",
       "4883    1\n",
       "4884    1\n",
       "4885    1\n",
       "4886    1\n",
       "4887    1\n",
       "4888    1\n",
       "4889    1\n",
       "4890    1\n",
       "4891    1\n",
       "4892    1\n",
       "4893    1\n",
       "4894    1\n",
       "4895    1\n",
       "Name: last_day, Length: 4896, dtype: int64"
      ]
     },
     "execution_count": 167,
     "metadata": {},
     "output_type": "execute_result"
    }
   ],
   "source": [
    "(last_day_df.last_day >= 15).astype(int)"
   ]
  },
  {
   "cell_type": "code",
   "execution_count": null,
   "metadata": {
    "collapsed": true
   },
   "outputs": [],
   "source": []
  }
 ],
 "metadata": {
  "anaconda-cloud": {},
  "kernelspec": {
   "display_name": "Python [conda env:env_edm2]",
   "language": "python",
   "name": "conda-env-env_edm2-py"
  },
  "language_info": {
   "codemirror_mode": {
    "name": "ipython",
    "version": 3
   },
   "file_extension": ".py",
   "mimetype": "text/x-python",
   "name": "python",
   "nbconvert_exporter": "python",
   "pygments_lexer": "ipython3",
   "version": "3.5.4"
  }
 },
 "nbformat": 4,
 "nbformat_minor": 2
}
